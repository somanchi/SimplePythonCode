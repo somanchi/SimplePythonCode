{
 "cells": [
  {
   "cell_type": "code",
   "execution_count": 1,
   "metadata": {},
   "outputs": [],
   "source": [
    "import pandas as pd"
   ]
  },
  {
   "cell_type": "code",
   "execution_count": 2,
   "metadata": {},
   "outputs": [],
   "source": [
    "import csv\n"
   ]
  },
  {
   "cell_type": "code",
   "execution_count": 4,
   "metadata": {},
   "outputs": [],
   "source": [
    "df = pd.read_csv(\"sample_email.csv\", encoding= 'unicode_escape')"
   ]
  },
  {
   "cell_type": "code",
   "execution_count": 14,
   "metadata": {
    "collapsed": true
   },
   "outputs": [
    {
     "name": "stdout",
     "output_type": "stream",
     "text": [
      "Email to:jbutt@luminate.ai\n",
      "Subject Line:When EMVX creation comes the message \"The creation was canceled for hardware reasons\".\n",
      "I have a nearly unreadable font in my Warehouse Software under Export-File Options for 2 days.Please do contact me at 504-621-8927\n",
      "Email to:josephine_darakjy@luminate.ai\n",
      "Subject Line: It falters when processing highly segmented process files.\n",
      "On Saturday the version WAREHOUSE Sales firstclass 20 Neo got, after installation it had to be found, that the label of the buttons in the export screen are not readable (eg file format, navigation, compression, font, sorting, etc. the complete caption under File options, Design title page and Design buttons.\n",
      "Email to:art@luminate.ai\n",
      "Subject Line: Cwvemx files falter in Sales firstclass 20\n",
      "In export mode, the font in the small preview window in the filemenu is always the same as the font in the header line of the submenu.\n",
      "Email to:lpaprocki@luminate.ai\n",
      "Subject Line: When creating EM / EMVX with Windows 7, it may sometimes be necessary to install an alternative driver for Ethernet card in the device manager.\n",
      "On my specificationsheet, the text blocks are only displayed as a speech bubble, today I would have had an online presentation of my specification sheet to win a sponsor.\n",
      "Email to:donette.foller@luminate.ai\n",
      "Subject Line: Drivers for the USB Process Manager could not be properly installed\n",
      "Since your update come strange bubbles on my sheet to light, but I did not make it!\n",
      "Email to:simona@luminate.ai\n",
      "Subject Line: EM card reader can not be detected via USB port\n",
      "on my detailsheet http://www.rhein-main-versand.de since yesterday evening some Calibri texts are replaced by blue speech bubbles (?!), i.a. also the imprint\n",
      "Email to:mitsue_tollner@luminate.ai\n",
      "Subject Line: When opening the program the error message \"the smartcard device ...\" appears.\n",
      "Unfortunately I can not manage my collections from today. There is nothing more when selecting the corresponding button.\n",
      "Email to:leota@luminate.ai\n",
      "Subject Line: When you install the Process Manager driver, you receive the error message \"1133: Unable to finish installation.\"\n",
      "Nevertheless, the online collection opens in a new window, which only reaches half the screen size. D.H., it must be brought to full screen size by hand.\n",
      "Email to:sage_wieser@luminate.ai\n",
      "Subject Line: In the profit calculation, the following message appears after entering a period of time: \"Error while parsing the XSL data\"\n",
      "I would like to use the studio version, but I can not exchange the preview images, even though they were deleted in the online organizer - i. E. I have changed the order of the products or deleted products so that the preview always shows the first product, but nothing happens.Reach out me at (541) 754-3010\n",
      "Email to:kris@luminate.ai\n",
      "Subject Line: The burning stops with the message \"Internal problem\".\n",
      "Suddenly, data was no longer loaded or only the charging process (circling points) was displayed, texts shifted.\n",
      "Email to:minna_amigon@luminate.ai\n",
      "Subject Line: Error code -9 when starting the program\n",
      "At irregular intervals certain products disappear from the article preview.\n",
      "Email to:amaclead@luminate.ai\n",
      "Subject Line: Error 9000 during program installation\n",
      "If I want to upload data, statistics or processes under \"Own product range\" and create a new folder, then when I click on the tool, only the selection opens\n",
      "Email to:kiley.caldarera@luminate.ai\n",
      "Subject Line: Program does not start. Ends at program interface will be set up.\n",
      "I no longer have access to the product pallet center. Can not upload any more products.\n",
      "Email to:gruta@luminate.ai\n",
      "Subject Line: Error when importing workit PRC files. Type can not be opened.\n",
      "If you select the product presentation version in the table presentation, then select Dynamicolisting or Popup when linking, Iso crashes (a script slows Iso 13. Should the script still be executed? ... or something like that). Then it does not matter if you press yes or no, because it comes to the crash: \"The Iso addon crashed\". email me at asergi[at]apple.com\n",
      "Email to:calbares@luminate.ai\n",
      "Subject Line: Memory request invalid when importing data or processes into WAREHOUSE products in the IT & OFFICE catalog and Salesfirstclass, problem can also occur during encryption or editing.\n",
      "After your last update, my product specification sheet will show both product representation (moving and enlarging products) and product presentation (data will not be displayed in a new \"Total and Partial View\" window after selection). opened.\n",
      "Email to:mattie@luminate.ai\n",
      "Subject Line: Codec to import this file could not be found.\n",
      "my maximum activation has been reached\n",
      "Email to:meaghan@luminate.ai\n",
      "Subject Line: Encryption aborts with the message \"Encrypt failed\".\n",
      "If you drag in the version 13 data and processes that were read in with the same card reader by mouse into the scheduling view, the process files either do not appear at all or without the order number fields that were imported with the data.\n",
      "Email to:gladys.rim@luminate.ai\n",
      "Subject Line: Order number error when calculating DT5 files from Tiffey Blast Workstation.\n",
      "It is possible to load the general data, but not the order numbers created with it, s. o.!\n",
      "Email to:yuki_whobrey@luminate.ai\n",
      "Subject Line: The import of process files takes place without order number.\n",
      "crv import without order number\n",
      "Email to:fletcher.flosi@luminate.ai\n",
      "Subject Line: No order numbers during card reader transfer / no connection to the hardware\n",
      "Order number is missing from the files after import.mail me at asergi@yahoo.com\n",
      "Email to:bette_nicka@luminate.ai\n",
      "Subject Line: Data and order number of a DATA file are not synchronous.\n",
      "Under Paymentreader the whole project is watching, only at the dropout no order number anymore.\n",
      "Email to:vinouye@luminate.ai\n",
      "Subject Line: Old program should be installed under Windows 7.\n",
      "The order numbers of the xls file are there the whole time and as soon as the actual procedure is opened all order numbers are gone.\n",
      "Email to:willard@luminate.ai\n",
      "Subject Line: Errors in the product data memory\n",
      "If I then want to pull down the new process (example: Gelsenkirchen-Projekt2.dat) in overview mode with the mouse, to attach it to the first process, I only get the line 1 (data), which is line 2 (order numbers) disappeared.\n",
      "Email to:mroyster@luminate.ai\n",
      "Subject Line: When installing one of our programs, the error message \"An error occurred while converting your product data store\" appears\n",
      "Unfortunately I can not import CASH-builds into the DAT-procedure without any problem. The order-number line remains empty (ZD recordings work). Reach out me at calbares@gmail.com\n",
      "Email to:alisha@luminate.ai\n",
      "Subject Line: The fonts in the Export interface are not readable or have a different font that does not match the original design\n",
      "If I now import a process file in complete EMC format from the USB stick (card reader configuration: Psk / 80MB / 81Seg / 26Bpd / File_Type .crv), I see the order number in the warehouse program, but I do not see any data.\n",
      "Email to:allene_iturbide@luminate.ai\n",
      "Subject Line: Temporary display problems with Specssheet Creator or Online Collection\n",
      "Under the new version 14, it is not possible to assign a purchase order number to sales objects (\"normal\" XLS statistics in the separate order number line o.k. and under version 12 also the process order numbers can be seen)\n",
      "Email to:chanel.caudy@luminate.ai\n",
      "Subject Line: The product manager 12 reports that the demo phase has expired or is only running for a few days, although the program should be usable indefinitely.\n",
      "This basically works, but it comes the process only without order number; So the order number is lost during the operation.\n",
      "Email to:ezekiel@luminate.ai\n",
      "Subject Line: Constant request to enter the registration data.\n",
      "However, if I put the display arrow on, there is no article order number.\n",
      "Email to:wkusko@luminate.ai\n",
      "Subject Line: Problem with the installation or activation (problems with the input of the serial number) of the additional programs of XtraGood etc.\n",
      "Now, however, when I reopened the project and made minor edits, there are no more order numbers.\n",
      "Email to:bfigeroa@luminate.ai\n",
      "Subject Line: The product is not registered. Error code -4\n",
      "There is no order number in SFC.Call me at 123-456-7890\n",
      "Email to:ammie@luminate.ai\n",
      "Subject Line: Error code -27 appears when registering\n",
      "When copying DATA3 films, the order number line is missing or no order number can be seen.\n",
      "Email to:francine_vocelka@luminate.ai\n",
      "Subject Line: If the \"DynamicListing\" function is activated in the Specssheetcreator, the message \"Isotool stops responding\" appears\n",
      "Now, while I can call Warehouse Sales 2008/2009 my process for further processing, but see no order numbers.\n",
      "Email to:ernie_stenseth@luminate.ai\n",
      "Subject Line: DVD player can not play the created DVD.\n",
      "after the last update, the order number is not included in a project, here the \"pull over\" of a process file (dat) in overview mode.\n",
      "Email to:albina@luminate.ai\n",
      "Subject Line: \"Internal error\" during export or preview of the data sheet.\n",
      "have since yesterday Sales Firstclass 19 Special Edition installed-registered and then I have imported the sales files from the memory card and when viewing the process, simply no order number comes.\n",
      "Email to:asergi@luminate.ai\n",
      "Subject Line: PDF export does not work.\n",
      "Then next came \"burning\" after some time came the message \"Troubleshooting\" X problem in class \"wmembank.dll\" (load address: 0x8e 534678) to address 6x8e80fcre Exception Oxc82562 \"ACCESS_FORBIDDEN\".\n",
      "Email to:solange@luminate.ai\n",
      "Subject Line: When previewing the page or when exporting the data sheet in Specsmanager, the error message \"insufficient memory\" appears.\n",
      "During the last burning attempt, however, the following error message came: Problem in class \"wmembank.dll\" (search address: Ox83708447) at address 6x8e80fcre\n",
      "Email to:jose@luminate.ai\n",
      "Subject Line: There is no burner found.\n",
      "In all cases there was a crash when creating the disk image file!\n",
      "Email to:rozella.ostrosky@luminate.ai\n",
      "Subject Line: Various error messages when using the online collection (both when logging in, uploading media, etc.)\n",
      "I can not move the text input fields when creating the control bar image (in the burn area). Also, I do not see the entered text (whether set to black, 3.30 or 70%).\n",
      "Email to:valentine_gillian@luminate.ai\n",
      "Subject Line: AutoSortSD functions are out of the visible screen area\n",
      "After a couple of times the DVD's are properly burned, the following error message will appear after some time: Problem in class \"wmembank.dll\" (search address: Ox28111570) at address 6x8e80fcre\n",
      "Email to:kati.rulapaugh@luminate.ai\n",
      "Subject Line: Customers want to install Warehouse programs on the MAC\n",
      "I've tried several times to burn my product review on the disc image every time. Problem in class \"wmembank.dll\" (load address: 7X0f4d0124) at address Ox6ffcre Exception 6Xd3382563 ACCESS_FORBIDDEN.\n",
      "Email to:youlanda@luminate.ai\n",
      "Subject Line: Start pointer always shows from the beginning\n",
      "I get after 8 hours of encryption an error message regarding \"wmembank.dll\" and must end the program.\n",
      "Email to:doldroyd@luminate.ai\n",
      "Subject Line: Drivers for the USB Process Manager could not be properly installed\n",
      "- When burning a product preview with products in the IT & OFFICE catalog 12 & 13 The error message appears at step 7 of 9 - Disc Copy is generated. Call me at +1 (123) 456-7890\n",
      "Email to:roxane@luminate.ai\n",
      "Subject Line: EM card reader can not be detected via USB port\n",
      "When burning again, the error message is always: wmem reports disc project build exception: 118764f4\n",
      "Email to:lperin@luminate.ai\n",
      "Subject Line: When opening the program the error message \"the smartcard device ...\" appears.\n",
      "When burning the program reports the following error message when encrypting. wmem reports disk project puild exception 411451v4\n",
      "Email to:erick.ferencz@luminate.ai\n",
      "Subject Line: When you install the Process Manager driver, you receive the error message \"1133: Unable to finish installation.\"\n",
      "!!! MBK exception in CopyWorkspace: 13 - process failed !!!\n",
      "Email to:fsaylors@luminate.ai\n",
      "Subject Line: In the profit calculation, the following message appears after entering a period of time: \"Error while parsing the XSL data\"\n",
      "Burning aborted with the following error: Encrypt failed.email me at asergi@gmail.com\n",
      "Email to:jina_briddick@luminate.ai\n",
      "Subject Line: The burning stops with the message \"Internal problem\".\n",
      "Burning aborted with the following error: Encrypt failed.\n",
      "Email to:kanisha_waycott@luminate.ai\n",
      "Subject Line: Error code -9 when starting the program\n",
      "The burning was aborted with the following error: Encrypt failed.\n",
      "Email to:emerson.bowley@luminate.ai\n",
      "Subject Line: Error 9000 during program installation\n",
      "I tried my product review with 330 files to burn. An error message appeared: wmem reports disc project build exception 86661f3 failed to encrypt the process.\n"
     ]
    }
   ],
   "source": [
    "for ind in df.index:\n",
    "    print(\"Email to:\" + df['email'][ind])\n",
    "    print(\"Subject Line:\" + df['subject'][ind])\n",
    "    print(df['Email Boby'][ind])"
   ]
  },
  {
   "cell_type": "markdown",
   "metadata": {},
   "source": [
    "# Question2"
   ]
  },
  {
   "cell_type": "code",
   "execution_count": 15,
   "metadata": {},
   "outputs": [],
   "source": [
    "import re "
   ]
  },
  {
   "cell_type": "code",
   "execution_count": 46,
   "metadata": {},
   "outputs": [],
   "source": [
    "emailDataFrame = []"
   ]
  },
  {
   "cell_type": "code",
   "execution_count": 47,
   "metadata": {},
   "outputs": [],
   "source": [
    "for ind in df.index:\n",
    "    x = re.findall('\\S+@\\S+',df['Email Boby'][ind])\n",
    "    emailDataFrame.append(x)"
   ]
  },
  {
   "cell_type": "code",
   "execution_count": 48,
   "metadata": {},
   "outputs": [],
   "source": [
    "EmailsInBodyDataFrame = pd.DataFrame(emailDataFrame)"
   ]
  },
  {
   "cell_type": "code",
   "execution_count": 50,
   "metadata": {},
   "outputs": [],
   "source": [
    "EmailsInBodyDataFrame.to_csv('output_email.csv')"
   ]
  },
  {
   "cell_type": "markdown",
   "metadata": {},
   "source": [
    "# Question 3"
   ]
  },
  {
   "cell_type": "code",
   "execution_count": 54,
   "metadata": {},
   "outputs": [],
   "source": [
    "PhoneNumberDataFrame = []"
   ]
  },
  {
   "cell_type": "code",
   "execution_count": 55,
   "metadata": {},
   "outputs": [],
   "source": [
    "for ind in df.index:\n",
    "    y = re.findall('\\d{3}-\\d{3}-\\d{4}',df['Email Boby'][ind])\n",
    "    PhoneNumberDataFrame.append(y)"
   ]
  },
  {
   "cell_type": "code",
   "execution_count": 56,
   "metadata": {},
   "outputs": [],
   "source": [
    "PhoneNumberInBodyDataFrame = pd.DataFrame(PhoneNumberDataFrame)"
   ]
  },
  {
   "cell_type": "code",
   "execution_count": null,
   "metadata": {},
   "outputs": [],
   "source": [
    "PhoneNumberInBodyDataFrame.to_csv('output_phn.csv')"
   ]
  }
 ],
 "metadata": {
  "kernelspec": {
   "display_name": "Python 3",
   "language": "python",
   "name": "python3"
  },
  "language_info": {
   "codemirror_mode": {
    "name": "ipython",
    "version": 3
   },
   "file_extension": ".py",
   "mimetype": "text/x-python",
   "name": "python",
   "nbconvert_exporter": "python",
   "pygments_lexer": "ipython3",
   "version": "3.7.3"
  }
 },
 "nbformat": 4,
 "nbformat_minor": 2
}
